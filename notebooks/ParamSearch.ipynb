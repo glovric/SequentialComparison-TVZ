{
 "cells": [
  {
   "cell_type": "code",
   "execution_count": 1,
   "metadata": {},
   "outputs": [],
   "source": [
    "import numpy as np\n",
    "import matplotlib.pyplot as plt\n",
    "\n",
    "import torch\n",
    "from torch.utils.data import DataLoader\n",
    "import torch.nn as nn\n",
    "import torch.optim as optim\n",
    "\n",
    "import sys\n",
    "import os\n",
    "sys.path.append(os.path.abspath(os.path.join(os.getcwd(), '..')))\n",
    "\n",
    "from utils.finance_utils import get_financial_data\n",
    "from utils.torch_utils import TransformerModel"
   ]
  },
  {
   "cell_type": "markdown",
   "metadata": {},
   "source": [
    "# Load financial data"
   ]
  },
  {
   "cell_type": "code",
   "execution_count": 2,
   "metadata": {},
   "outputs": [
    {
     "name": "stderr",
     "output_type": "stream",
     "text": [
      "d:\\Grgo\\Faks\\SequentialComparison-TVZ\\utils\\finance_utils.py:64: FutureWarning: YF.download() has changed argument auto_adjust default to True\n",
      "  df = yf.download(ticker, period='max') # Download data\n",
      "[*********************100%***********************]  1 of 1 completed\n"
     ]
    },
    {
     "data": {
      "text/html": [
       "<div>\n",
       "<style scoped>\n",
       "    .dataframe tbody tr th:only-of-type {\n",
       "        vertical-align: middle;\n",
       "    }\n",
       "\n",
       "    .dataframe tbody tr th {\n",
       "        vertical-align: top;\n",
       "    }\n",
       "\n",
       "    .dataframe thead th {\n",
       "        text-align: right;\n",
       "    }\n",
       "</style>\n",
       "<table border=\"1\" class=\"dataframe\">\n",
       "  <thead>\n",
       "    <tr style=\"text-align: right;\">\n",
       "      <th>Price</th>\n",
       "      <th>Close</th>\n",
       "      <th>High</th>\n",
       "      <th>Low</th>\n",
       "      <th>Open</th>\n",
       "      <th>Volume</th>\n",
       "      <th>Daily Return</th>\n",
       "      <th>Lagged Return</th>\n",
       "      <th>Log Return</th>\n",
       "      <th>SMA 14</th>\n",
       "      <th>ATR 14</th>\n",
       "    </tr>\n",
       "    <tr>\n",
       "      <th>Date</th>\n",
       "      <th></th>\n",
       "      <th></th>\n",
       "      <th></th>\n",
       "      <th></th>\n",
       "      <th></th>\n",
       "      <th></th>\n",
       "      <th></th>\n",
       "      <th></th>\n",
       "      <th></th>\n",
       "      <th></th>\n",
       "    </tr>\n",
       "  </thead>\n",
       "  <tbody>\n",
       "    <tr>\n",
       "      <th>2015-01-02</th>\n",
       "      <td>24.261047</td>\n",
       "      <td>24.729270</td>\n",
       "      <td>23.821672</td>\n",
       "      <td>24.718174</td>\n",
       "      <td>212818400</td>\n",
       "      <td>-0.018494</td>\n",
       "      <td>-0.019019</td>\n",
       "      <td>-0.009558</td>\n",
       "      <td>24.666026</td>\n",
       "      <td>0.555242</td>\n",
       "    </tr>\n",
       "    <tr>\n",
       "      <th>2015-01-05</th>\n",
       "      <td>23.577572</td>\n",
       "      <td>24.110148</td>\n",
       "      <td>23.391171</td>\n",
       "      <td>24.030261</td>\n",
       "      <td>257142000</td>\n",
       "      <td>-0.018838</td>\n",
       "      <td>-0.009513</td>\n",
       "      <td>-0.028576</td>\n",
       "      <td>24.610867</td>\n",
       "      <td>0.581079</td>\n",
       "    </tr>\n",
       "    <tr>\n",
       "      <th>2015-01-06</th>\n",
       "      <td>23.579792</td>\n",
       "      <td>23.839422</td>\n",
       "      <td>23.218083</td>\n",
       "      <td>23.641926</td>\n",
       "      <td>263188400</td>\n",
       "      <td>-0.002628</td>\n",
       "      <td>-0.028172</td>\n",
       "      <td>0.000094</td>\n",
       "      <td>24.579641</td>\n",
       "      <td>0.542245</td>\n",
       "    </tr>\n",
       "    <tr>\n",
       "      <th>2015-01-07</th>\n",
       "      <td>23.910431</td>\n",
       "      <td>24.010288</td>\n",
       "      <td>23.677428</td>\n",
       "      <td>23.788382</td>\n",
       "      <td>160423600</td>\n",
       "      <td>0.005131</td>\n",
       "      <td>0.000094</td>\n",
       "      <td>0.013925</td>\n",
       "      <td>24.595492</td>\n",
       "      <td>0.511178</td>\n",
       "    </tr>\n",
       "    <tr>\n",
       "      <th>2015-01-08</th>\n",
       "      <td>24.829130</td>\n",
       "      <td>24.886826</td>\n",
       "      <td>24.121248</td>\n",
       "      <td>24.238859</td>\n",
       "      <td>237458000</td>\n",
       "      <td>0.024352</td>\n",
       "      <td>0.014022</td>\n",
       "      <td>0.037703</td>\n",
       "      <td>24.634801</td>\n",
       "      <td>0.531942</td>\n",
       "    </tr>\n",
       "  </tbody>\n",
       "</table>\n",
       "</div>"
      ],
      "text/plain": [
       "Price           Close       High        Low       Open     Volume  \\\n",
       "Date                                                                \n",
       "2015-01-02  24.261047  24.729270  23.821672  24.718174  212818400   \n",
       "2015-01-05  23.577572  24.110148  23.391171  24.030261  257142000   \n",
       "2015-01-06  23.579792  23.839422  23.218083  23.641926  263188400   \n",
       "2015-01-07  23.910431  24.010288  23.677428  23.788382  160423600   \n",
       "2015-01-08  24.829130  24.886826  24.121248  24.238859  237458000   \n",
       "\n",
       "Price       Daily Return  Lagged Return  Log Return     SMA 14    ATR 14  \n",
       "Date                                                                      \n",
       "2015-01-02     -0.018494      -0.019019   -0.009558  24.666026  0.555242  \n",
       "2015-01-05     -0.018838      -0.009513   -0.028576  24.610867  0.581079  \n",
       "2015-01-06     -0.002628      -0.028172    0.000094  24.579641  0.542245  \n",
       "2015-01-07      0.005131       0.000094    0.013925  24.595492  0.511178  \n",
       "2015-01-08      0.024352       0.014022    0.037703  24.634801  0.531942  "
      ]
     },
     "execution_count": 2,
     "metadata": {},
     "output_type": "execute_result"
    }
   ],
   "source": [
    "df = get_financial_data()\n",
    "df.head()"
   ]
  },
  {
   "cell_type": "markdown",
   "metadata": {},
   "source": [
    "# Converting Pandas DataFrame to NumPy ndarray"
   ]
  },
  {
   "cell_type": "code",
   "execution_count": 3,
   "metadata": {},
   "outputs": [
    {
     "data": {
      "text/plain": [
       "(2688, 10)"
      ]
     },
     "execution_count": 3,
     "metadata": {},
     "output_type": "execute_result"
    }
   ],
   "source": [
    "X = df.to_numpy()\n",
    "X.shape"
   ]
  },
  {
   "cell_type": "markdown",
   "metadata": {},
   "source": [
    "# Split and scale"
   ]
  },
  {
   "cell_type": "code",
   "execution_count": 4,
   "metadata": {},
   "outputs": [
    {
     "name": "stdout",
     "output_type": "stream",
     "text": [
      "Train: (2150, 10), Test: (538, 10)\n"
     ]
    }
   ],
   "source": [
    "from sklearn.model_selection import train_test_split\n",
    "from sklearn.preprocessing import StandardScaler\n",
    "\n",
    "X_train, X_test = train_test_split(X, test_size=0.2, shuffle=False)\n",
    "\n",
    "scaler = StandardScaler()\n",
    "X_train_scaled = scaler.fit_transform(X_train)\n",
    "X_test_scaled = scaler.transform(X_test)\n",
    "\n",
    "print(f'Train: {X_train_scaled.shape}, Test: {X_test_scaled.shape}')"
   ]
  },
  {
   "cell_type": "markdown",
   "metadata": {},
   "source": [
    "# Create sequences"
   ]
  },
  {
   "cell_type": "code",
   "execution_count": 5,
   "metadata": {},
   "outputs": [
    {
     "name": "stdout",
     "output_type": "stream",
     "text": [
      "X_train, y_train: (2139, 10, 10) (2139, 10)\n",
      "X_test, y_test: (530, 7, 10) (530, 10)\n"
     ]
    }
   ],
   "source": [
    "from utils.torch_utils import create_sequence\n",
    "\n",
    "X_train_seq, y_train_seq = create_sequence(X_train_scaled, input_seq_len=10)\n",
    "X_test_seq, y_test_seq = create_sequence(X_test_scaled, input_seq_len=7)\n",
    "\n",
    "print(f'X_train, y_train: {X_train_seq.shape} {y_train_seq.shape}')\n",
    "print(f'X_test, y_test: {X_test_seq.shape} {y_test_seq.shape}')"
   ]
  },
  {
   "cell_type": "markdown",
   "metadata": {},
   "source": [
    "# Data preparation"
   ]
  },
  {
   "cell_type": "code",
   "execution_count": 6,
   "metadata": {},
   "outputs": [
    {
     "name": "stdout",
     "output_type": "stream",
     "text": [
      "cuda\n"
     ]
    }
   ],
   "source": [
    "device = 'cuda' if torch.cuda.is_available() else 'cpu'\n",
    "print(device)\n",
    "\n",
    "# Convert ndarray to torch Tensor\n",
    "X_train_seq, X_test_seq, y_train_seq, y_test_seq = torch.Tensor(X_train_seq), torch.Tensor(X_test_seq), torch.Tensor(y_train_seq), torch.Tensor(y_test_seq)\n",
    "# Put tensors to available device\n",
    "X_train_seq, X_test_seq, y_train_seq, y_test_seq = X_train_seq.to(device), X_test_seq.to(device), y_train_seq.to(device), y_test_seq.to(device)"
   ]
  },
  {
   "cell_type": "code",
   "execution_count": 7,
   "metadata": {},
   "outputs": [],
   "source": [
    "from utils.torch_utils import StockDataset\n",
    "\n",
    "batch_size = 64\n",
    "\n",
    "dataset_train = StockDataset(X_train_seq, y_train_seq)\n",
    "dataloader_train = DataLoader(dataset_train, batch_size=batch_size, shuffle=False)\n",
    "\n",
    "dataset_test = StockDataset(X_test_seq, y_test_seq)\n",
    "dataloader_test = DataLoader(dataset_test, batch_size=batch_size, shuffle=False)"
   ]
  },
  {
   "cell_type": "markdown",
   "metadata": {},
   "source": [
    "# Bayes parameter search"
   ]
  },
  {
   "cell_type": "code",
   "execution_count": 8,
   "metadata": {},
   "outputs": [
    {
     "name": "stdout",
     "output_type": "stream",
     "text": [
      "Avg Loss: 0.30128904651193056, num_layers: 5, num_heads: 4, d_model: 512, dropout: 0.3577383020598617\n",
      "Avg Loss: 0.2665409848970525, num_layers: 4, num_heads: 16, d_model: 256, dropout: 0.31120549264701747\n",
      "Avg Loss: 0.27598462823559256, num_layers: 5, num_heads: 32, d_model: 256, dropout: 0.32780333993504474\n",
      "Avg Loss: 0.29985421720673056, num_layers: 5, num_heads: 16, d_model: 256, dropout: 0.11743771276420756\n",
      "Avg Loss: 0.23773201007176847, num_layers: 3, num_heads: 4, d_model: 256, dropout: 0.13034580589698735\n",
      "Avg Loss: 0.32713597311693077, num_layers: 6, num_heads: 32, d_model: 256, dropout: 0.1303294386469343\n",
      "Avg Loss: 0.28603340707281055, num_layers: 5, num_heads: 32, d_model: 128, dropout: 0.10782806448130296\n",
      "Avg Loss: 0.2594958061681074, num_layers: 5, num_heads: 16, d_model: 256, dropout: 0.34447069370980077\n",
      "Avg Loss: 0.2531027848667958, num_layers: 5, num_heads: 32, d_model: 128, dropout: 0.12065325485280821\n",
      "Avg Loss: 0.23821182373692007, num_layers: 3, num_heads: 8, d_model: 256, dropout: 0.3682938488207126\n",
      "Avg Loss: 0.2539286468835438, num_layers: 3, num_heads: 32, d_model: 128, dropout: 0.37425331895421576\n",
      "Avg Loss: 0.2686626764343065, num_layers: 3, num_heads: 32, d_model: 512, dropout: 0.10877756464645723\n",
      "Avg Loss: 0.23234769658130758, num_layers: 3, num_heads: 4, d_model: 128, dropout: 0.10280533511027083\n",
      "Avg Loss: 0.2800108711509144, num_layers: 3, num_heads: 4, d_model: 128, dropout: 0.3961827506297978\n",
      "Avg Loss: 0.23343407231218674, num_layers: 3, num_heads: 4, d_model: 512, dropout: 0.10067388413483176\n",
      "Avg Loss: 0.25379416587598186, num_layers: 4, num_heads: 4, d_model: 128, dropout: 0.10058541334434778\n",
      "Avg Loss: 0.23748427980086384, num_layers: 3, num_heads: 32, d_model: 512, dropout: 0.1099248368365885\n",
      "Avg Loss: 0.23762251809239388, num_layers: 3, num_heads: 32, d_model: 256, dropout: 0.10053925266522408\n",
      "Avg Loss: 0.25171610450043397, num_layers: 3, num_heads: 4, d_model: 128, dropout: 0.1\n",
      "Avg Loss: 0.24093844500534675, num_layers: 3, num_heads: 32, d_model: 512, dropout: 0.1\n",
      "Best loss: 0.23234769658130758\n",
      "Best num_layers: 3\n",
      "Best num_heads: 4\n",
      "Best d_model: 128\n",
      "Best dropout: 0.10280533511027083\n",
      "Best params list: [3, 2, 7, 0.10280533511027083]\n"
     ]
    }
   ],
   "source": [
    "from skopt import gp_minimize\n",
    "from skopt.space import Real, Integer\n",
    "from skopt.utils import use_named_args\n",
    "\n",
    "space = [\n",
    "    Integer(3, 6, name=\"num_layers\"),\n",
    "    Integer(2, 5, name=\"num_heads\"),\n",
    "    Integer(7, 9, name=\"d_model\"),\n",
    "    Real(1e-1, 4e-1, name=\"dropout\")\n",
    "]\n",
    "\n",
    "\n",
    "@use_named_args(space)\n",
    "def objective(num_layers, num_heads, d_model, dropout):\n",
    "\n",
    "    num_heads = 2 ** num_heads\n",
    "    d_model = 2 ** d_model\n",
    "\n",
    "    if d_model % num_heads != 0:\n",
    "        return 1e6\n",
    "\n",
    "    model = TransformerModel(input_dim=10, \n",
    "                             output_dim=10, \n",
    "                             d_model=d_model, \n",
    "                             nhead=num_heads, \n",
    "                             dropout=dropout, \n",
    "                             num_layers=num_layers)\n",
    "    model = model.to(device)\n",
    "\n",
    "    criterion = nn.MSELoss()\n",
    "    optimizer = optim.Adam(model.parameters(), lr=0.0001)\n",
    "\n",
    "    model.train()\n",
    "\n",
    "    epochs = 50\n",
    "\n",
    "    for epoch in range(epochs+1):\n",
    "\n",
    "        epoch_loss = 0\n",
    "\n",
    "        for (data, target) in dataloader_train:\n",
    "\n",
    "            output = model(data)\n",
    "            loss = criterion(output, target)\n",
    "            optimizer.zero_grad()\n",
    "            loss.backward()\n",
    "            optimizer.step()\n",
    "            epoch_loss += loss.item()\n",
    "        \n",
    "    print(f\"Avg Loss: {epoch_loss / len(dataloader_train)}, num_layers: {num_layers}, num_heads: {num_heads}, d_model: {d_model}, dropout: {dropout}\")\n",
    "    return epoch_loss / len(dataloader_train)\n",
    "\n",
    "res = gp_minimize(\n",
    "    func=objective,\n",
    "    dimensions=space,\n",
    "    n_calls=20\n",
    ")\n",
    "\n",
    "print(\"Best loss:\", res.fun)\n",
    "print(f\"Best num_layers: {res.x[0]}\")\n",
    "print(f\"Best num_heads: {2 ** res.x[1]}\")\n",
    "print(f\"Best d_model: {2 ** res.x[2]}\")\n",
    "print(f\"Best dropout: {res.x[3]}\")\n",
    "print(f'Best params list: {res.x}')"
   ]
  }
 ],
 "metadata": {
  "kernelspec": {
   "display_name": ".venv",
   "language": "python",
   "name": "python3"
  },
  "language_info": {
   "codemirror_mode": {
    "name": "ipython",
    "version": 3
   },
   "file_extension": ".py",
   "mimetype": "text/x-python",
   "name": "python",
   "nbconvert_exporter": "python",
   "pygments_lexer": "ipython3",
   "version": "3.10.18"
  }
 },
 "nbformat": 4,
 "nbformat_minor": 2
}
